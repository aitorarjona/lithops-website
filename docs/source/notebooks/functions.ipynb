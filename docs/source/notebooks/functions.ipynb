{
 "cells": [
  {
   "cell_type": "markdown",
   "metadata": {
    "pycharm": {
     "name": "#%% md\n"
    }
   },
   "source": [
    "Functions and Parameters\n",
    "========================\n",
    "\n",
    "This document describes how to invoke functions based on the *iterdata* variable. In this sense, Lithops allows to send either *args* or *kwargs* in the function invocation. Take into account that there are some reserved parameter names that activate internal logic, and they cannot be used as regular parameters.\n",
    "\n",
    "Reserved parameters\n",
    "-------------------\n",
    "Reserved parameters are only accessible when using the Futures API.\n",
    "\n",
    "\n",
    "- **id**: To get the call id. For instance, if you spawn 10 activations of a function, you will get here a number from 0 to 9, for example: [map.py](https://github.com/lithops-cloud/lithops/blob/master/examples/map.py)\n",
    "\n",
    "- **obj**: This parameter is used to activate the internal logic that allows to process data objects stored in the object store or public URLs in a transparent way. See Data Processing documentation for more details and instructions on how to use this built-in data-processing logic.\n",
    "\n",
    "- **storage**: To get a ready-to use lithops.storage.Storage() instance. This allows you to access your storage backend defined in configuration from any function in an easy way, for example: [storage_arg.py](https://github.com/lithops-cloud/lithops/blob/master/examples/storage_arg.py)\n",
    "\n",
    "- **rabbitmq**: To get a ready-to use [pika.BlockingConnection()](https://pika.readthedocs.io/en/latest/modules/adapters/blocking.html) instance (AMQP URL must be set in the configuration to make it working). This allows you to access the RabbitMQ service from any function in an easy way, for example: [rabbitmq_arg.py](https://github.com/lithops-cloud/lithops/blob/master/examples/rabbitmq_arg.py)\n",
    "\n",
    "Parameters in the call_async() method \n",
    "-------------------------------------\n",
    "\n",
    "You can send multiple parameters to a single call function writing them into a list. The parameters will be mapped in\n",
    "the order you wrote them. In the following example the x  parameter will take the value 3 and the y parameter will \n",
    "take the value 6."
   ]
  },
  {
   "cell_type": "code",
   "execution_count": 1,
   "metadata": {
    "collapsed": false,
    "jupyter": {
     "outputs_hidden": false
    },
    "pycharm": {
     "name": "#%%\n"
    }
   },
   "outputs": [
    {
     "name": "stdout",
     "output_type": "stream",
     "text": [
      "9\n"
     ]
    }
   ],
   "source": [
    "import lithops\n",
    "\n",
    "args = (3, 6)\n",
    "\n",
    "def my_function(x, y):\n",
    "    return x + y\n",
    "\n",
    "fexec = lithops.FunctionExecutor()\n",
    "fexec.call_async(my_function, args)\n",
    "print(fexec.get_result())"
   ]
  },
  {
   "cell_type": "markdown",
   "metadata": {
    "pycharm": {
     "name": "#%% md\n"
    }
   },
   "source": [
    "The parameters can also be sent into a dictionary. In this case you have to map them to the correct parameter of the\n",
    "function as in the next example."
   ]
  },
  {
   "cell_type": "code",
   "execution_count": 2,
   "metadata": {
    "collapsed": false,
    "jupyter": {
     "outputs_hidden": false
    },
    "pycharm": {
     "name": "#%%\n"
    }
   },
   "outputs": [
    {
     "name": "stdout",
     "output_type": "stream",
     "text": [
      "10\n"
     ]
    }
   ],
   "source": [
    "import lithops\n",
    "\n",
    "kwargs = {'x': 2, 'y': 8}\n",
    "\n",
    "def my_function(x, y):\n",
    "    return x + y\n",
    "\n",
    "fexec = lithops.FunctionExecutor()\n",
    "fexec.call_async(my_function, kwargs)\n",
    "print(fexec.get_result())"
   ]
  },
  {
   "cell_type": "markdown",
   "metadata": {
    "pycharm": {
     "name": "#%% md\n"
    }
   },
   "source": [
    "If you want to send a list or a dict as a parameter of the function, you must enclose them with [] as in the next \n",
    "example."
   ]
  },
  {
   "cell_type": "code",
   "execution_count": 3,
   "metadata": {
    "collapsed": false,
    "jupyter": {
     "outputs_hidden": false
    },
    "pycharm": {
     "name": "#%%\n"
    }
   },
   "outputs": [
    {
     "name": "stdout",
     "output_type": "stream",
     "text": [
      "15\n"
     ]
    }
   ],
   "source": [
    "import lithops\n",
    "\n",
    "args = ([1, 2, 3, 4, 5],)\n",
    "\n",
    "def sum_list(list_of_numbers):\n",
    "    total = 0\n",
    "    for num in list_of_numbers:\n",
    "        total = total+num\n",
    "    return total\n",
    "\n",
    "fexec = lithops.FunctionExecutor()\n",
    "fexec.call_async(sum_list, args)\n",
    "print(fexec.get_result())"
   ]
  },
  {
   "cell_type": "markdown",
   "metadata": {
    "pycharm": {
     "name": "#%% md\n"
    }
   },
   "source": [
    "You can also send multiple parameters which include a list."
   ]
  },
  {
   "cell_type": "code",
   "execution_count": 4,
   "metadata": {
    "collapsed": false,
    "jupyter": {
     "outputs_hidden": false
    },
    "pycharm": {
     "name": "#%%\n"
    }
   },
   "outputs": [
    {
     "name": "stdout",
     "output_type": "stream",
     "text": [
      "75\n"
     ]
    }
   ],
   "source": [
    "import lithops\n",
    "\n",
    "args = ([1, 2, 3, 4, 5], 5)\n",
    "\n",
    "def sum_list_mult(list_of_numbers, x):\n",
    "    total = 0\n",
    "    for num in list_of_numbers:\n",
    "        total = total+num\n",
    "    return total*x\n",
    "\n",
    "fexec = lithops.FunctionExecutor()\n",
    "fexec.call_async(sum_list_mult, args)\n",
    "print (fexec.get_result())"
   ]
  },
  {
   "cell_type": "markdown",
   "metadata": {
    "pycharm": {
     "name": "#%% md\n"
    }
   },
   "source": [
    "Or alternatively using a dict."
   ]
  },
  {
   "cell_type": "code",
   "execution_count": 5,
   "metadata": {
    "collapsed": false,
    "jupyter": {
     "outputs_hidden": false
    },
    "pycharm": {
     "name": "#%%\n"
    }
   },
   "outputs": [
    {
     "name": "stdout",
     "output_type": "stream",
     "text": [
      "45\n"
     ]
    }
   ],
   "source": [
    "import lithops\n",
    "\n",
    "kwargs = {'list_of_numbers': [1, 2, 3, 4, 5], 'x': 3}\n",
    "\n",
    "fexec = lithops.FunctionExecutor()\n",
    "fexec.call_async(sum_list_mult, kwargs)\n",
    "print(fexec.get_result())"
   ]
  },
  {
   "cell_type": "markdown",
   "metadata": {
    "pycharm": {
     "name": "#%% md\n"
    }
   },
   "source": [
    "To test all of the previous examples run the `multiple_args_call_async.py <https://github.com/lithops-cloud/lithops/blob/master/examples/multiple_args_call_async.py>`_ located in the `examples` folder.\n",
    "\n",
    "Parameters in the map() and map_reduce() methods \n",
    "------------------------------------------------\n",
    "\n",
    "The 'iterdata' variable must be always a list []. In this case to send multiple parameters to the function, the parameters of\n",
    "each function must be enclosed within a tuple () as in the next example. The parameters will be mapped in the order you wrote\n",
    "them."
   ]
  },
  {
   "cell_type": "code",
   "execution_count": 6,
   "metadata": {
    "collapsed": false,
    "jupyter": {
     "outputs_hidden": false
    },
    "pycharm": {
     "name": "#%%\n"
    }
   },
   "outputs": [
    {
     "name": "stdout",
     "output_type": "stream",
     "text": [
      "[3, 7, 11]\n"
     ]
    }
   ],
   "source": [
    "import lithops\n",
    "\n",
    "args = [  # Init list of parameters for Lithops\n",
    "        (1, 2),  # Args for function1\n",
    "        (3, 4),  # Args for function2\n",
    "        (5, 6),  # Args for function3\n",
    "       ]  # End list of parameters for Lithops\n",
    "\n",
    "def my_function(x, y):\n",
    "    return x + y\n",
    "\n",
    "fexec = lithops.FunctionExecutor()\n",
    "fexec.map(my_function, args)\n",
    "print(fexec.get_result())"
   ]
  },
  {
   "cell_type": "markdown",
   "metadata": {},
   "source": [
    "The parameters can also be sent into a dictionary. In this case you have to map them to the correct parameter of the\n",
    "function as in the next example."
   ]
  },
  {
   "cell_type": "code",
   "execution_count": 7,
   "metadata": {
    "collapsed": false,
    "jupyter": {
     "outputs_hidden": false
    },
    "pycharm": {
     "name": "#%%\n"
    }
   },
   "outputs": [
    {
     "name": "stdout",
     "output_type": "stream",
     "text": [
      "[3, 7, 11]\n"
     ]
    }
   ],
   "source": [
    "import lithops\n",
    "\n",
    "kwargs = [  # Init list of parameters for Lithops\n",
    "          {'x': 1, 'y': 2},  # Kwargs for function1\n",
    "          {'x': 3, 'y': 4},  # Kwargs for function2\n",
    "          {'x': 5, 'y': 6},  # Kwargs for function3\n",
    "         ]  # End list of parameters for Lithops\n",
    "\n",
    "def my_function(x, y):\n",
    "    return x + y\n",
    "\n",
    "fexec = lithops.FunctionExecutor()\n",
    "fexec.map(my_function, kwargs)\n",
    "print(fexec.get_result())"
   ]
  },
  {
   "cell_type": "markdown",
   "metadata": {},
   "source": [
    "If you want to send a list, a tuple or a dict as a parameter of the function, you must enclose them with () as in the next \n",
    "example."
   ]
  },
  {
   "cell_type": "code",
   "execution_count": 8,
   "metadata": {
    "collapsed": false,
    "jupyter": {
     "outputs_hidden": false
    },
    "pycharm": {
     "name": "#%%\n"
    }
   },
   "outputs": [
    {
     "name": "stdout",
     "output_type": "stream",
     "text": [
      "[3, 7, 11]\n"
     ]
    }
   ],
   "source": [
    "import lithops\n",
    "\n",
    "args = [  # Init list of parameters for Lithops\n",
    "         ([1, 2],),  # Args for function1\n",
    "         ([3, 4],),  # Args for function2\n",
    "         ([5, 6],),  # Args for function3\n",
    "       ]  # End list of parameters for Lithops\n",
    "\n",
    "def sum_list(list_of_numbers):\n",
    "    total = 0\n",
    "    for num in list_of_numbers:\n",
    "        total = total+num\n",
    "    return total\n",
    "\n",
    "fexec = lithops.FunctionExecutor()\n",
    "fexec.map(sum_list, args)\n",
    "print(fexec.get_result())"
   ]
  },
  {
   "cell_type": "markdown",
   "metadata": {},
   "source": [
    "You can also send multiple parameters which include a list."
   ]
  },
  {
   "cell_type": "code",
   "execution_count": 9,
   "metadata": {
    "collapsed": false,
    "jupyter": {
     "outputs_hidden": false
    },
    "pycharm": {
     "name": "#%%\n"
    }
   },
   "outputs": [
    {
     "name": "stdout",
     "output_type": "stream",
     "text": [
      "[30, 120, 260]\n"
     ]
    }
   ],
   "source": [
    "import lithops\n",
    "\n",
    "args = [  # Init list of parameters for Lithops\n",
    "        ([1, 2, 3, 4, 5], 2),  # Args for function1\n",
    "        ([6, 7, 8, 9, 10], 3),  # Args for function2\n",
    "        ([11, 12, 13, 14, 15], 4),  # Args for function3\n",
    "       ]  # End list of parameters for Lithops\n",
    "\n",
    "def sum_list_mult(list_of_numbers, x):\n",
    "    total = 0\n",
    "    for num in list_of_numbers:\n",
    "        total = total+num\n",
    "    return total*x\n",
    "\n",
    "fexec = lithops.FunctionExecutor()\n",
    "fexec.map(sum_list_mult, args)\n",
    "print(fexec.get_result())"
   ]
  },
  {
   "cell_type": "markdown",
   "metadata": {},
   "source": [
    "Or alternatively using a dict."
   ]
  },
  {
   "cell_type": "code",
   "execution_count": 10,
   "metadata": {
    "collapsed": false,
    "jupyter": {
     "outputs_hidden": false
    },
    "pycharm": {
     "name": "#%%\n"
    }
   },
   "outputs": [
    {
     "name": "stdout",
     "output_type": "stream",
     "text": [
      "[30, 120, 260]\n"
     ]
    }
   ],
   "source": [
    "import lithops\n",
    "\n",
    "kwargs = [  # Init list of parameters for Lithops\n",
    "           {'list_of_numbers': [1, 2, 3, 4, 5], 'x': 2},  # Kwargs for function1\n",
    "           {'list_of_numbers': [6, 7, 8, 9, 10], 'x': 3},  # Kwargs for function2\n",
    "           {'list_of_numbers': [11, 12, 13, 14, 15], 'x': 4},  # Kwargs for function3\n",
    "         ]  # End list of parameters for Lithops\n",
    "\n",
    "fexec = lithops.FunctionExecutor()\n",
    "fexec.map(sum_list_mult, kwargs)\n",
    "print(fexec.get_result())"
   ]
  },
  {
   "cell_type": "markdown",
   "metadata": {},
   "source": [
    "Common parameters across functions invocations\n",
    "----------------------------------------------\n",
    "\n",
    "Sometimes, functions have common parameters for all the invocations. In this case you have two options to proceed:\n",
    "\n",
    "- Setting variables in the global scope: You can define the desired variables in the global scope before defining the function. All of these variables can be catched within the function, for example:"
   ]
  },
  {
   "cell_type": "code",
   "execution_count": 11,
   "metadata": {
    "collapsed": false,
    "jupyter": {
     "outputs_hidden": false
    },
    "pycharm": {
     "name": "#%%\n"
    }
   },
   "outputs": [
    {
     "name": "stdout",
     "output_type": "stream",
     "text": [
      "[10, 11, 12]\n"
     ]
    }
   ],
   "source": [
    "import lithops\n",
    "\n",
    "y = 10\n",
    "\n",
    "def sum_x_y(x):\n",
    "    return x + y\n",
    "\n",
    "iterdata = [0, 1, 2]\n",
    "fexec = lithops.FunctionExecutor()\n",
    "fexec.map(sum_x_y, iterdata)\n",
    "print(fexec.get_result())"
   ]
  },
  {
   "cell_type": "markdown",
   "metadata": {},
   "source": [
    "- Using `extra_args` parameter in the `map()` or `map_reduce()` calls. `extra_args` must be a **set* or a **dict**, depending on whether `iteradata` contains *args* or *kwargs*. \n",
    "\n",
    "    If `iterdata` is a list of individual values or a list of sets:"
   ]
  },
  {
   "cell_type": "code",
   "execution_count": 12,
   "metadata": {
    "collapsed": false,
    "jupyter": {
     "outputs_hidden": false
    },
    "pycharm": {
     "name": "#%%\n"
    }
   },
   "outputs": [
    {
     "name": "stdout",
     "output_type": "stream",
     "text": [
      "[10, 11, 12]\n"
     ]
    }
   ],
   "source": [
    "import lithops\n",
    "\n",
    "def sum_x_y(x, y):\n",
    "    return x+y\n",
    "\n",
    "args = [0, 1, 2]\n",
    "fexec = lithops.FunctionExecutor()\n",
    "fexec.map(sum_x_y, args, extra_args=(10,))\n",
    "print(fexec.get_result())"
   ]
  },
  {
   "cell_type": "markdown",
   "metadata": {},
   "source": [
    "The previous example is equivalent to the next:"
   ]
  },
  {
   "cell_type": "code",
   "execution_count": 13,
   "metadata": {
    "collapsed": false,
    "jupyter": {
     "outputs_hidden": false
    },
    "pycharm": {
     "name": "#%%\n"
    }
   },
   "outputs": [
    {
     "name": "stdout",
     "output_type": "stream",
     "text": [
      "[10, 11, 12]\n"
     ]
    }
   ],
   "source": [
    "import lithops\n",
    "\n",
    "def sum_x_y(x, y):\n",
    "    return x+y\n",
    "\n",
    "args = [  # Init list of parameters for Lithops\n",
    "        (0, 10),  # Args for function1\n",
    "        (1, 10),  # Args for function2\n",
    "        (2, 10),  # Args for function3\n",
    "       ]  # End list of parameters for Lithops\n",
    "fexec = lithops.FunctionExecutor()\n",
    "fexec.map(sum_x_y, args)\n",
    "print(fexec.get_result())"
   ]
  },
  {
   "cell_type": "markdown",
   "metadata": {},
   "source": [
    "If `iterdata` is a list of dicts:"
   ]
  },
  {
   "cell_type": "code",
   "execution_count": 14,
   "metadata": {
    "collapsed": false,
    "jupyter": {
     "outputs_hidden": false
    },
    "pycharm": {
     "name": "#%%\n"
    }
   },
   "outputs": [
    {
     "name": "stdout",
     "output_type": "stream",
     "text": [
      "[4, 6, 8]\n"
     ]
    }
   ],
   "source": [
    "import lithops\n",
    "\n",
    "kwargs = [  # Init list of parameters for Lithops\n",
    "          {'x': 1},  # Kwargs for function1\n",
    "          {'x': 3},  # Kwargs for function2\n",
    "          {'x': 5},  # Kwargs for function3\n",
    "         ]  # End list of parameters for Lithops\n",
    "\n",
    "def my_function(x, y):\n",
    "    return x + y\n",
    "\n",
    "fexec = lithops.FunctionExecutor()\n",
    "fexec.map(my_function, kwargs, extra_args={'y': 3})\n",
    "print(fexec.get_result())"
   ]
  },
  {
   "cell_type": "markdown",
   "metadata": {},
   "source": [
    "The previous example is equivalent to the next:"
   ]
  },
  {
   "cell_type": "code",
   "execution_count": 15,
   "metadata": {
    "collapsed": false,
    "jupyter": {
     "outputs_hidden": false
    },
    "pycharm": {
     "name": "#%%\n"
    }
   },
   "outputs": [
    {
     "name": "stdout",
     "output_type": "stream",
     "text": [
      "[4, 6, 8]\n"
     ]
    }
   ],
   "source": [
    "import lithops\n",
    "\n",
    "kwargs = [  # Init list of parameters for Lithops\n",
    "          {'x': 1, 'y': 3},  # Kwargs for function1\n",
    "          {'x': 3, 'y': 3},  # Kwargs for function2\n",
    "          {'x': 5, 'y': 3},  # Kwargs for function3\n",
    "         ]  # End list of parameters for Lithops\n",
    "\n",
    "def my_function(x, y):\n",
    "    return x + y\n",
    "\n",
    "fexec = lithops.FunctionExecutor()\n",
    "fexec.map(my_function, kwargs)\n",
    "print(fexec.get_result())"
   ]
  }
 ],
 "metadata": {
  "kernelspec": {
   "display_name": "lithops-dev",
   "language": "python",
   "name": "lithops-dev"
  },
  "language_info": {
   "codemirror_mode": {
    "name": "ipython",
    "version": 3
   },
   "file_extension": ".py",
   "mimetype": "text/x-python",
   "name": "python",
   "nbconvert_exporter": "python",
   "pygments_lexer": "ipython3",
   "version": "3.8.10"
  }
 },
 "nbformat": 4,
 "nbformat_minor": 4
}
